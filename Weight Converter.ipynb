{
 "cells": [
  {
   "cell_type": "code",
   "execution_count": 17,
   "id": "82cc4fb4",
   "metadata": {},
   "outputs": [
    {
     "name": "stdout",
     "output_type": "stream",
     "text": [
      "Your weight in Kgs is: 99.0\n"
     ]
    }
   ],
   "source": [
    "weight = float(input(\"Please enter you weight: \"))\n",
    "unit = input (\"(L)bs or (K)gs?: \")\n",
    "if unit.upper() == \"K\":\n",
    "    converted = weight/0.45\n",
    "    print(\"Your weight in Lbs is: \" + str(converted))\n",
    "else:\n",
    "    converted = weight*0.45\n",
    "    print (\"Your weight in Kgs is: \" + str(converted))\n"
   ]
  },
  {
   "cell_type": "markdown",
   "id": "eaac1601",
   "metadata": {},
   "source": []
  }
 ],
 "metadata": {
  "kernelspec": {
   "display_name": "Python 3.9.7 ('base')",
   "language": "python",
   "name": "python3"
  },
  "language_info": {
   "codemirror_mode": {
    "name": "ipython",
    "version": 3
   },
   "file_extension": ".py",
   "mimetype": "text/x-python",
   "name": "python",
   "nbconvert_exporter": "python",
   "pygments_lexer": "ipython3",
   "version": "3.9.7"
  },
  "vscode": {
   "interpreter": {
    "hash": "a077ae4e662b220e7fe1d6c59ba9b272b0124a09166e5930edbd09fcc3e56fa1"
   }
  }
 },
 "nbformat": 4,
 "nbformat_minor": 5
}
