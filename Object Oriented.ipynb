{
 "cells": [
  {
   "cell_type": "code",
   "execution_count": 3,
   "metadata": {},
   "outputs": [
    {
     "name": "stdout",
     "output_type": "stream",
     "text": [
      "Woof! My name is Georgie and the number is 10\n"
     ]
    }
   ],
   "source": [
    "class Dog():\n",
    "    \n",
    "    # Class Object Attribute (same for any instance of class)\n",
    "    species = 'Mammal'\n",
    "\n",
    "    def __init__(self,breed,name):\n",
    "\n",
    "        # Attributes - we take in the argument (breed in this case)\n",
    "        # and assign it using self.attribute_name (this can be anything - breed would work best here)\n",
    "        self.attribute_name = breed\n",
    "\n",
    "        # as above - best practise to have (name) all 3 times\n",
    "        self.name = name\n",
    "\n",
    "    # Methods - functions acting on an object that take the object\n",
    "    # itself into account through the use of the self keyword.\n",
    "    def bark(self,number):\n",
    "        print(f\"Woof! My name is {self.name} and the number is {number}\")\n",
    "\n",
    "my_dog = Dog(breed='Lhasa Apso',name='Georgie')\n",
    "\n",
    "\n",
    "my_dog.bark(10)\n"
   ]
  },
  {
   "cell_type": "code",
   "execution_count": 3,
   "metadata": {},
   "outputs": [
    {
     "data": {
      "text/plain": [
       "1962.5"
      ]
     },
     "execution_count": 3,
     "metadata": {},
     "output_type": "execute_result"
    }
   ],
   "source": [
    "class Circle():\n",
    "\n",
    "    # Class object attribute (same for all instances)\n",
    "    pi = 3.14\n",
    "\n",
    "    def __init__(self,radius=1): # Set radius value at a default of 1\n",
    "\n",
    "        self.radius = radius\n",
    "        self.area = radius*radius*self.pi # Could use Circle.pi here too as its a class object attribute\n",
    "\n",
    "    # Method\n",
    "    def get_circumfrence(self):\n",
    "        return self.radius * self.pi * 2\n",
    "\n",
    "my_circle = Circle(25) # Entering a number here will overwrite the default radius value above\n",
    "\n",
    "my_circle.area"
   ]
  },
  {
   "cell_type": "code",
   "execution_count": 2,
   "metadata": {},
   "outputs": [
    {
     "name": "stdout",
     "output_type": "stream",
     "text": [
      "ANIMAL CREATED\n",
      "Dog Created\n",
      "I am eating\n"
     ]
    }
   ],
   "source": [
    "class Animal():\n",
    "\n",
    "    def __init__(self):\n",
    "        print(\"ANIMAL CREATED\")\n",
    "\n",
    "    def who_am_i(self):\n",
    "        print(\"I am an animal\")\n",
    "\n",
    "    def eat(self):\n",
    "        print(\"I am eating\")\n",
    "\n",
    "\n",
    "# Inheriting the previous Animal class and attributes\n",
    "class Dog(Animal):\n",
    "\n",
    "    def __init__(self):\n",
    "        Animal.__init__(self)\n",
    "        print(\"Dog Created\")\n",
    "\n",
    "\n",
    "mydog = Dog()\n",
    "\n",
    "mydog.eat()\n",
    "\n",
    "    "
   ]
  }
 ],
 "metadata": {
  "kernelspec": {
   "display_name": "Python 3.9.7 ('base')",
   "language": "python",
   "name": "python3"
  },
  "language_info": {
   "codemirror_mode": {
    "name": "ipython",
    "version": 3
   },
   "file_extension": ".py",
   "mimetype": "text/x-python",
   "name": "python",
   "nbconvert_exporter": "python",
   "pygments_lexer": "ipython3",
   "version": "3.9.7"
  },
  "orig_nbformat": 4,
  "vscode": {
   "interpreter": {
    "hash": "a077ae4e662b220e7fe1d6c59ba9b272b0124a09166e5930edbd09fcc3e56fa1"
   }
  }
 },
 "nbformat": 4,
 "nbformat_minor": 2
}
