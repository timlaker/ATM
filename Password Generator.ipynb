{
 "cells": [
  {
   "cell_type": "code",
   "execution_count": 1,
   "id": "1b6a3bfd",
   "metadata": {},
   "outputs": [
    {
     "name": "stdout",
     "output_type": "stream",
     "text": [
      "$5x3jiQ*Dd9bc#\n"
     ]
    }
   ],
   "source": [
    "import random\n",
    "passlen = int(input(\"Enter the length of password\"))\n",
    "s =\"abcdefghijklmnopqrstuvwxyz01234567890ABCDEFGHIJKLMNOPQRSTUVWXYZ!@#$%^&*()?\"\n",
    "p = \"\".join(random.sample(s,passlen))\n",
    "print(p)"
   ]
  }
 ],
 "metadata": {
  "kernelspec": {
   "display_name": "Python 3.9.7 ('base')",
   "language": "python",
   "name": "python3"
  },
  "language_info": {
   "codemirror_mode": {
    "name": "ipython",
    "version": 3
   },
   "file_extension": ".py",
   "mimetype": "text/x-python",
   "name": "python",
   "nbconvert_exporter": "python",
   "pygments_lexer": "ipython3",
   "version": "3.9.7"
  },
  "vscode": {
   "interpreter": {
    "hash": "a077ae4e662b220e7fe1d6c59ba9b272b0124a09166e5930edbd09fcc3e56fa1"
   }
  }
 },
 "nbformat": 4,
 "nbformat_minor": 5
}
