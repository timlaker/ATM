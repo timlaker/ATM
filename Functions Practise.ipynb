{
 "cells": [
  {
   "cell_type": "code",
   "execution_count": 2,
   "id": "9c9acbe5",
   "metadata": {},
   "outputs": [
    {
     "data": {
      "text/plain": [
       "[6, 10, 34]"
      ]
     },
     "execution_count": 2,
     "metadata": {},
     "output_type": "execute_result"
    }
   ],
   "source": [
    "# Return even numbers in a list\n",
    "\n",
    "def check_even_list(num_list):\n",
    "\n",
    "    # Place holder variables\n",
    "    even_numbers = []\n",
    "\n",
    "    for number in num_list:\n",
    "        if number % 2 == 0:\n",
    "            even_numbers.append(number)\n",
    "            \n",
    "        else:\n",
    "            pass\n",
    "    return even_numbers\n",
    "\n",
    "    \n",
    "\n",
    "check_even_list([1,3,6,5,10,23,34])"
   ]
  },
  {
   "cell_type": "code",
   "execution_count": 200,
   "id": "c4010453",
   "metadata": {},
   "outputs": [
    {
     "data": {
      "text/plain": [
       "('Abby', 1000)"
      ]
     },
     "execution_count": 200,
     "metadata": {},
     "output_type": "execute_result"
    }
   ],
   "source": [
    "# Function for employee of the month based on hours worked\n",
    "\n",
    "\n",
    "work_hours = [('Abby',1000),('Billy',900),('Cassie',800)]\n",
    "\n",
    "def employee_check(work_hours):\n",
    "\n",
    "    current_max = 0\n",
    "    employee_of_month = ''\n",
    "\n",
    "    for employee,hours in work_hours:\n",
    "        if hours > current_max:\n",
    "            current_max = hours\n",
    "            employee_of_month = employee\n",
    "        else:\n",
    "            pass\n",
    "\n",
    "    return (employee_of_month,current_max)\n",
    "\n",
    "result = employee_check(work_hours)\n",
    "\n",
    "result"
   ]
  },
  {
   "cell_type": "code",
   "execution_count": 202,
   "id": "e60aba30",
   "metadata": {},
   "outputs": [
    {
     "name": "stdout",
     "output_type": "stream",
     "text": [
      "Wrong Guess!\n",
      "[' ', ' ', 'O']\n"
     ]
    }
   ],
   "source": [
    "# Guessing game, find the O.\n",
    "\n",
    "from random import shuffle\n",
    "\n",
    "\n",
    "def shuffle_list(mylist):\n",
    "    shuffle(mylist)\n",
    "    return mylist\n",
    "\n",
    "\n",
    "mylist = [' ','O',' ']\n",
    "\n",
    "shuffle_list(mylist)\n",
    "\n",
    "def player_guess():\n",
    "\n",
    "    guess=''\n",
    "\n",
    "    while guess not in ['0','1','2']:\n",
    "        guess = input(\"Pick a number: 0, 1, or 2\")\n",
    "\n",
    "    return int(guess)\n",
    "\n",
    "player_guess()\n",
    "\n",
    "def check_guess(mylist,guess):\n",
    "    if mylist[guess] == 'O':\n",
    "        print(\"Correct!\")\n",
    "    else:\n",
    "        print(\"Wrong Guess!\")\n",
    "        print(mylist)\n",
    "\n",
    "mylist = [' ','O',' ']\n",
    "mixedup_list = shuffle_list(mylist)\n",
    "guess = player_guess()\n",
    "check_guess(mixedup_list,guess)"
   ]
  },
  {
   "cell_type": "code",
   "execution_count": 7,
   "id": "b61afba2",
   "metadata": {},
   "outputs": [
    {
     "data": {
      "text/plain": [
       "[6, 8, 10, 14]"
      ]
     },
     "execution_count": 7,
     "metadata": {},
     "output_type": "execute_result"
    }
   ],
   "source": [
    "# Return only the even numbers in a list - using args function.\n",
    "\n",
    "def myfunc(*args):\n",
    "    return [number for number in args if number % 2 == 0]\n",
    "\n",
    "myfunc(5,6,7,8,9,10,14)"
   ]
  },
  {
   "cell_type": "code",
   "execution_count": 7,
   "id": "48986f3d",
   "metadata": {},
   "outputs": [
    {
     "data": {
      "text/plain": [
       "'hI HoW ArE YoU'"
      ]
     },
     "execution_count": 7,
     "metadata": {},
     "output_type": "execute_result"
    }
   ],
   "source": [
    "# Capitalise every other letter in a sentance.\n",
    "\n",
    "def myfunc(word):\n",
    "    result = \"\"\n",
    "    for index, letter in enumerate(word):\n",
    "        if index % 2 == 0:\n",
    "            result += letter.lower()\n",
    "        else:\n",
    "            result += letter.upper()\n",
    "    return result\n",
    "\n",
    "myfunc('hi how are you')\n",
    "    "
   ]
  },
  {
   "cell_type": "code",
   "execution_count": 72,
   "id": "8d85602e",
   "metadata": {},
   "outputs": [
    {
     "data": {
      "text/plain": [
       "7"
      ]
     },
     "execution_count": 72,
     "metadata": {},
     "output_type": "execute_result"
    }
   ],
   "source": [
    "# Return lowest value if both numbers are even, highest if any number is odd.\n",
    "\n",
    "def lesser_of_two_evens(a,b):\n",
    "    if a%2 == 0 and b%2 == 0:\n",
    "       return min(a,b)\n",
    "    else:\n",
    "        return max(a,b)\n",
    "      \n",
    "\n",
    "lesser_of_two_evens(7,4)\n"
   ]
  },
  {
   "cell_type": "code",
   "execution_count": 99,
   "id": "0b436a21",
   "metadata": {},
   "outputs": [
    {
     "data": {
      "text/plain": [
       "False"
      ]
     },
     "execution_count": 99,
     "metadata": {},
     "output_type": "execute_result"
    }
   ],
   "source": [
    "# Return True if both words start with the same letter.\n",
    "\n",
    "def animal_crackers(text):\n",
    "    wordlist = text.lower().split()\n",
    "    return wordlist[0][0] == wordlist[1][0]\n",
    "\n",
    "\n",
    "\n",
    "animal_crackers('Elena Potato')"
   ]
  },
  {
   "cell_type": "code",
   "execution_count": 107,
   "id": "384b5cb4",
   "metadata": {},
   "outputs": [
    {
     "data": {
      "text/plain": [
       "True"
      ]
     },
     "execution_count": 107,
     "metadata": {},
     "output_type": "execute_result"
    }
   ],
   "source": [
    "# Return True if one of both numbers combined = 20\n",
    "\n",
    "def makes_twenty(n1,n2):\n",
    "    return (n1+n2) == 20 or n1 == 20 or n2 == 20\n",
    "        \n",
    "\n",
    "makes_twenty(18,2)"
   ]
  },
  {
   "cell_type": "code",
   "execution_count": 114,
   "id": "46317d45",
   "metadata": {},
   "outputs": [
    {
     "data": {
      "text/plain": [
       "'MacDonald'"
      ]
     },
     "execution_count": 114,
     "metadata": {},
     "output_type": "execute_result"
    }
   ],
   "source": [
    "# Write a function that capitalizes the first and fourth letters of a name.\n",
    "\n",
    "def old_macdonald(name):\n",
    "    \n",
    "    a = name[0]\n",
    "    b = name[1:3]\n",
    "    c = name[3]\n",
    "    d= name[4:]\n",
    "\n",
    "    return a.upper() + b + c.upper() + d\n",
    "\n",
    "old_macdonald('macdonald')"
   ]
  },
  {
   "cell_type": "code",
   "execution_count": 123,
   "id": "3c54de37",
   "metadata": {},
   "outputs": [
    {
     "data": {
      "text/plain": [
       "'home am I'"
      ]
     },
     "execution_count": 123,
     "metadata": {},
     "output_type": "execute_result"
    }
   ],
   "source": [
    "# Return a sentance with the words reversed.\n",
    "\n",
    "def master_yoda(text):\n",
    "    wordlist = text.split()\n",
    "    reversed_word_list = wordlist[::-1]\n",
    "    return ' '.join(reversed_word_list)\n",
    "master_yoda('I am home')\n"
   ]
  },
  {
   "cell_type": "code",
   "execution_count": 5,
   "id": "43cfaf5b",
   "metadata": {},
   "outputs": [
    {
     "data": {
      "text/plain": [
       "True"
      ]
     },
     "execution_count": 5,
     "metadata": {},
     "output_type": "execute_result"
    }
   ],
   "source": [
    "# Given an integer n, return True if n is within 10 of either 100 or 200\n",
    "\n",
    "def almost_there(n):\n",
    "\n",
    "   return (abs(100-n) <= 10) or (abs(200-n) <= 10)\n",
    "\n",
    "almost_there(205)"
   ]
  },
  {
   "cell_type": "code",
   "execution_count": 4,
   "id": "04aa494c",
   "metadata": {},
   "outputs": [
    {
     "data": {
      "text/plain": [
       "True"
      ]
     },
     "execution_count": 4,
     "metadata": {},
     "output_type": "execute_result"
    }
   ],
   "source": [
    "# Given a list of integers, return True if the array contains a 3 next to a 3 somewhere.\n",
    "\n",
    "def has_33(nums):\n",
    "    \n",
    "    for i in range(0,len(nums)-1):\n",
    "        if nums[i] == 3 and nums [i+1] == 3:\n",
    "            return True\n",
    "\n",
    "    return False\n",
    "\n",
    "has_33([1,1,3,3,2])"
   ]
  },
  {
   "cell_type": "code",
   "execution_count": 5,
   "id": "8c9d0c89",
   "metadata": {},
   "outputs": [
    {
     "data": {
      "text/plain": [
       "'HHHeeellllllooo'"
      ]
     },
     "execution_count": 5,
     "metadata": {},
     "output_type": "execute_result"
    }
   ],
   "source": [
    "# Given a string, return a string where for every charachter in the original there are three charachters.\n",
    "\n",
    "def paper_doll(text):\n",
    "\n",
    "    result = \"\"\n",
    "    for letter in text:\n",
    "        result += letter*3\n",
    "    return result\n",
    "\n",
    "paper_doll('Hello')\n",
    "        \n",
    "        "
   ]
  },
  {
   "cell_type": "code",
   "execution_count": 3,
   "id": "267c573e",
   "metadata": {},
   "outputs": [
    {
     "data": {
      "text/plain": [
       "'BUST'"
      ]
     },
     "execution_count": 3,
     "metadata": {},
     "output_type": "execute_result"
    }
   ],
   "source": [
    "# Given three integers between 1 and 11, if their sum is less than or equal to 21, return their sum. If their sum exceeds 21 AND there's an eleven, reduce the total sum by 10. Finally, if the sum (even after adjustment exceeds 21, return 'BUST'.\n",
    "\n",
    "def blackjack(a,b,c):\n",
    "    \n",
    "    if (a+b+c) > 21 and a == 11 or b == 11 or c == 11:\n",
    "        result = ((a+b+c)-10)\n",
    "        if result <= 21:\n",
    "            return result\n",
    "    elif (a+b+c) <= 21:\n",
    "        return (a+b+c)\n",
    "    else:\n",
    "        return ('BUST')\n",
    "        \n",
    "\n",
    "        \n",
    "    \n",
    "        \n",
    "\n",
    "blackjack(9,9,9)\n",
    "\n",
    "        "
   ]
  },
  {
   "cell_type": "code",
   "execution_count": 61,
   "id": "6ad0fd2f",
   "metadata": {},
   "outputs": [
    {
     "data": {
      "text/plain": [
       "14"
      ]
     },
     "execution_count": 61,
     "metadata": {},
     "output_type": "execute_result"
    }
   ],
   "source": [
    "# Return the sum of the numbers in the array, except ignore sections of numbers starting with a 6 and extending to the next 9. Return 0 for no numbers.\n",
    "\n",
    "def summer_69(arr):\n",
    "    \n",
    "    total = 0\n",
    "    add = True\n",
    "\n",
    "    for num in arr:\n",
    "        while add:\n",
    "            if num!= 6:\n",
    "                total += num\n",
    "                break\n",
    "            else:\n",
    "                add = False\n",
    "        while not add:\n",
    "            if num != 9:\n",
    "                break\n",
    "            else:\n",
    "                add = True\n",
    "                break\n",
    "    return total\n",
    "\n",
    "\n",
    "summer_69([2,1,6,9,11])"
   ]
  },
  {
   "cell_type": "code",
   "execution_count": 62,
   "id": "0df2993b",
   "metadata": {},
   "outputs": [
    {
     "data": {
      "text/plain": [
       "True"
      ]
     },
     "execution_count": 62,
     "metadata": {},
     "output_type": "execute_result"
    }
   ],
   "source": [
    "# Write a function that takes in a list of integers and returns True if it contains 007 in order.\n",
    "\n",
    "def spy_game(nums):\n",
    "\n",
    "    code = [0,0,7,'x']\n",
    "\n",
    "    for num in nums:\n",
    "        if num == code[0]:\n",
    "            code.pop(0)\n",
    "\n",
    "    return len(code) == 1\n",
    "\n",
    "spy_game([1,0,2,4,0,5,7])\n"
   ]
  },
  {
   "cell_type": "code",
   "execution_count": 64,
   "id": "f8bf55c3",
   "metadata": {},
   "outputs": [
    {
     "name": "stdout",
     "output_type": "stream",
     "text": [
      "[2, 3, 5, 7, 11, 13, 17, 19, 23, 29, 31, 37, 41, 43, 47, 53, 59, 61, 67, 71, 73, 79, 83, 89, 97]\n"
     ]
    },
    {
     "data": {
      "text/plain": [
       "25"
      ]
     },
     "execution_count": 64,
     "metadata": {},
     "output_type": "execute_result"
    }
   ],
   "source": [
    "# Write a function that returns the nuber of prime numbers that exist up to and including a given number.\n",
    "# by convention treat 0 and 1 as not prime.\n",
    "\n",
    "def count_primes(num):\n",
    "    #Check for 0 or 1 input\n",
    "    if num < 2:\n",
    "        return 0\n",
    "\n",
    "    # 2 or greater..\n",
    "\n",
    "    # Store our prime numbers\n",
    "    primes = [2]\n",
    "    # Counter going up to the input number\n",
    "    x = 3\n",
    "    # x is going through every number up to input number\n",
    "    while x <= num:\n",
    "        # check if x is prime\n",
    "        for y in primes:\n",
    "            if x%y == 0:\n",
    "                x += 2\n",
    "                break\n",
    "        else:\n",
    "            primes.append(x)\n",
    "            x += 2\n",
    "    print(primes)\n",
    "    return len(primes)\n",
    "\n",
    "count_primes(100)"
   ]
  },
  {
   "cell_type": "code",
   "execution_count": 9,
   "id": "1f697831",
   "metadata": {},
   "outputs": [
    {
     "data": {
      "text/plain": [
       "[1, 4, 9, 16, 25]"
      ]
     },
     "execution_count": 9,
     "metadata": {},
     "output_type": "execute_result"
    }
   ],
   "source": [
    "# Map Functions\n",
    "\n",
    "def square(num):\n",
    "    return num**2\n",
    "\n",
    "my_nums = [1,2,3,4,5]\n",
    "\n",
    "list(map(square,my_nums))\n"
   ]
  },
  {
   "cell_type": "code",
   "execution_count": 8,
   "id": "fb2d609a",
   "metadata": {},
   "outputs": [
    {
     "data": {
      "text/plain": [
       "['EVEN', 'E', 'S']"
      ]
     },
     "execution_count": 8,
     "metadata": {},
     "output_type": "execute_result"
    }
   ],
   "source": [
    "def splicer(mystring):\n",
    "    if len(mystring)%2 == 0:\n",
    "        return 'EVEN'\n",
    "    else:\n",
    "        return mystring[0]\n",
    "\n",
    "names = ['Andy', 'Eve', 'Sally']\n",
    "\n",
    "list(map(splicer,names))"
   ]
  },
  {
   "cell_type": "code",
   "execution_count": 24,
   "id": "5e28d0db",
   "metadata": {},
   "outputs": [
    {
     "data": {
      "text/plain": [
       "[2, 4, 6]"
      ]
     },
     "execution_count": 24,
     "metadata": {},
     "output_type": "execute_result"
    }
   ],
   "source": [
    "# Filter Functions\n",
    "\n",
    "def check_even(num):\n",
    "    return num%2 == 0\n",
    "\n",
    "mynums = [1,2,3,4,5,6]\n",
    "\n",
    "list(filter(check_even,mynums))"
   ]
  },
  {
   "cell_type": "code",
   "execution_count": 37,
   "id": "56c6aaf5",
   "metadata": {},
   "outputs": [
    {
     "data": {
      "text/plain": [
       "16"
      ]
     },
     "execution_count": 37,
     "metadata": {},
     "output_type": "execute_result"
    }
   ],
   "source": [
    "# Lambda expressions\n",
    "\n",
    "square = lambda num: num ** 2 #(automatically assumes its returning num ** 2 so don't need return keyword)\n",
    "\n",
    "square(4)"
   ]
  },
  {
   "cell_type": "code",
   "execution_count": 38,
   "id": "cf45d6ac",
   "metadata": {},
   "outputs": [
    {
     "data": {
      "text/plain": [
       "[1, 4, 9, 16, 25, 36]"
      ]
     },
     "execution_count": 38,
     "metadata": {},
     "output_type": "execute_result"
    }
   ],
   "source": [
    "list(map(lambda num:num**2,mynums))"
   ]
  },
  {
   "cell_type": "code",
   "execution_count": 39,
   "id": "68acb660",
   "metadata": {},
   "outputs": [
    {
     "data": {
      "text/plain": [
       "[2, 4, 6]"
      ]
     },
     "execution_count": 39,
     "metadata": {},
     "output_type": "execute_result"
    }
   ],
   "source": [
    "list(filter(lambda num:num%2 == 0,mynums))"
   ]
  },
  {
   "cell_type": "code",
   "execution_count": 21,
   "id": "be3f65c2",
   "metadata": {},
   "outputs": [
    {
     "data": {
      "text/plain": [
       "113.09733552923254"
      ]
     },
     "execution_count": 21,
     "metadata": {},
     "output_type": "execute_result"
    }
   ],
   "source": [
    "# Write a function that computes the volume of a sphere given its radius.\n",
    "\n",
    "import math\n",
    "from math import pi\n",
    "\n",
    "\n",
    "def vol(rad):\n",
    "    return (4/3)*(pi)*(rad**3)\n",
    "\n",
    "vol(3)\n",
    "            "
   ]
  },
  {
   "cell_type": "code",
   "execution_count": 22,
   "id": "553979e5",
   "metadata": {},
   "outputs": [
    {
     "name": "stdout",
     "output_type": "stream",
     "text": [
      "Original String: Hello Mr. Rogers, how are you this fine Tuesday?\n",
      "lowercase count: 33\n",
      "uppercase count: 4\n"
     ]
    }
   ],
   "source": [
    "# Write a python function that accepts a string and calculates the number of upper and lower case letters.\n",
    "\n",
    "def up_low(s):\n",
    "\n",
    "    uppercase = 0\n",
    "    lowercase = 0\n",
    "\n",
    "    for char in s:\n",
    "        if char.isupper():\n",
    "            uppercase += 1\n",
    "        elif char.islower():\n",
    "            lowercase += 1\n",
    "        else:\n",
    "            pass\n",
    "\n",
    "    print(f\"Original String: {s}\")\n",
    "    print(f'lowercase count: {lowercase}')\n",
    "    print(f'uppercase count: {uppercase}')\n",
    "\n",
    "s = 'Hello Mr. Rogers, how are you this fine Tuesday?'    \n",
    "up_low(s)"
   ]
  },
  {
   "cell_type": "code",
   "execution_count": 23,
   "id": "17edde62",
   "metadata": {},
   "outputs": [
    {
     "data": {
      "text/plain": [
       "[1, 2, 3, 4, 5]"
      ]
     },
     "execution_count": 23,
     "metadata": {},
     "output_type": "execute_result"
    }
   ],
   "source": [
    "# Write a python function that takes a list and returns a new list with unique elements of the list\n",
    "\n",
    "def unique_list(lst):\n",
    "    return list(set(lst))\n",
    "\n",
    "unique_list([1,1,1,1,2,2,2,2,3,3,3,4,4,4,4,5,5,5,5])\n",
    "\n"
   ]
  },
  {
   "cell_type": "code",
   "execution_count": 28,
   "id": "1e791f0c",
   "metadata": {},
   "outputs": [
    {
     "data": {
      "text/plain": [
       "-24"
      ]
     },
     "execution_count": 28,
     "metadata": {},
     "output_type": "execute_result"
    }
   ],
   "source": [
    "# Write a function to multiply all the numbers in a list\n",
    "\n",
    "def multiply(numbers):\n",
    "    total = 1\n",
    "    for num in numbers:\n",
    "        total = total * num\n",
    "    return total\n",
    "\n",
    "multiply([1,2,3,-4])"
   ]
  },
  {
   "cell_type": "code",
   "execution_count": 41,
   "id": "d065de96",
   "metadata": {},
   "outputs": [
    {
     "data": {
      "text/plain": [
       "True"
      ]
     },
     "execution_count": 41,
     "metadata": {},
     "output_type": "execute_result"
    }
   ],
   "source": [
    "\n",
    "\n",
    "def palindrome(s):\n",
    "\n",
    "    s = s.replace(' ','')\n",
    "    \n",
    "    b = s[::-1]\n",
    "    if b == s:\n",
    "        return True\n",
    "    else:\n",
    "        return False\n",
    "\n",
    "palindrome('nurses run')"
   ]
  },
  {
   "cell_type": "code",
   "execution_count": 58,
   "id": "81ca6300",
   "metadata": {},
   "outputs": [
    {
     "data": {
      "text/plain": [
       "True"
      ]
     },
     "execution_count": 58,
     "metadata": {},
     "output_type": "execute_result"
    }
   ],
   "source": [
    "# Write a function to check whether a string is a pangram or not.\n",
    "\n",
    "import string\n",
    "\n",
    "def ispangram(str1, alphabet=string.ascii_lowercase):\n",
    "\n",
    "    # Create a set of the alphabet\n",
    "    alphaset = set(alphabet)\n",
    "    # Remove any spaces from the input string\n",
    "    str1 = str1.replace(' ','')\n",
    "    # Convert the input string into all lowercase\n",
    "    str1 = str1.lower()\n",
    "    # Grab all unique letters from the string\n",
    "    str1 = set(str1)\n",
    "    # Alphabet set == string set input\n",
    "    return str1 == alphaset\n",
    "\n",
    "ispangram(\"The quick brown fox jumps over the lazy dog\")\n"
   ]
  },
  {
   "cell_type": "code",
   "execution_count": 12,
   "id": "b2f808c2",
   "metadata": {},
   "outputs": [
    {
     "name": "stdout",
     "output_type": "stream",
     "text": [
      "[1, 3, 4, 5, 6]\n"
     ]
    }
   ],
   "source": [
    "def sort():\n",
    "\n",
    "    a = []\n",
    "    b = int(input(\"How many numbers would you like to enter? \"))\n",
    "    for i in range(b):\n",
    "        a.append(int(input(\"Enter Numbers: \")))\n",
    "    c = input(\"Choose from the following, asc, desc, none\")\n",
    "\n",
    "    if c == \"asc\":\n",
    "        a.sort()\n",
    "        print(a)\n",
    "    elif c == \"desc\":\n",
    "        a.sort(reverse=True)\n",
    "        print(a)\n",
    "    else:\n",
    "        print(a)\n",
    "    \n",
    "sort()"
   ]
  },
  {
   "cell_type": "code",
   "execution_count": 39,
   "id": "0c773568",
   "metadata": {},
   "outputs": [
    {
     "name": "stdout",
     "output_type": "stream",
     "text": [
      "Cheese\n"
     ]
    },
    {
     "data": {
      "text/plain": [
       "3"
      ]
     },
     "execution_count": 39,
     "metadata": {},
     "output_type": "execute_result"
    }
   ],
   "source": [
    "def vowels():\n",
    "\n",
    "    check = ['a', 'e', 'i', 'o', 'u']\n",
    "    number = 0\n",
    "\n",
    "    a = input(\"Enter a word: \")\n",
    "    b = a.lower()\n",
    "    for char in b:\n",
    "        if char in check:\n",
    "            number += 1\n",
    "    print(a)\n",
    "    return number\n",
    "\n",
    "vowels()"
   ]
  },
  {
   "cell_type": "code",
   "execution_count": 42,
   "id": "8660237a",
   "metadata": {},
   "outputs": [
    {
     "data": {
      "text/plain": [
       "3"
      ]
     },
     "execution_count": 42,
     "metadata": {},
     "output_type": "execute_result"
    }
   ],
   "source": [
    "def count_vowels(word):\n",
    "    \n",
    "    VOWELS = ['a', 'e', 'i', 'o', 'u']\n",
    "    vowel_count = 0\n",
    "\n",
    "    for char in word.lower():\n",
    "        if char in VOWELS:\n",
    "            vowel_count += 1\n",
    "\n",
    "    return vowel_count\n",
    "\n",
    "count_vowels(\"Cheese\")"
   ]
  },
  {
   "cell_type": "code",
   "execution_count": 44,
   "id": "8398a1bd",
   "metadata": {},
   "outputs": [
    {
     "data": {
      "text/plain": [
       "'************9044'"
      ]
     },
     "execution_count": 44,
     "metadata": {},
     "output_type": "execute_result"
    }
   ],
   "source": [
    "def hide_card_number(card_number):\n",
    "   \n",
    "    return '*' * (len(card_number) - 4) + card_number[-4:]\n",
    "\n",
    "hide_card_number(\"8944723892039044\")\n"
   ]
  },
  {
   "cell_type": "code",
   "execution_count": 47,
   "id": "7c7b4116",
   "metadata": {},
   "outputs": [
    {
     "data": {
      "text/plain": [
       "False"
      ]
     },
     "execution_count": 47,
     "metadata": {},
     "output_type": "execute_result"
    }
   ],
   "source": [
    "def equal(string):\n",
    "\n",
    "    check = ['x', 'o']\n",
    "    x_count = 0\n",
    "    o_count = 0\n",
    "\n",
    "    for char in string:\n",
    "        if char == check[0]:\n",
    "            x_count += 1\n",
    "        elif char == check[1]:\n",
    "            o_count += 1\n",
    "    \n",
    "    if x_count == o_count:\n",
    "        return True\n",
    "    else:\n",
    "        return False\n",
    "    \n",
    "equal(\"xoxox\")"
   ]
  },
  {
   "cell_type": "code",
   "execution_count": 58,
   "id": "b1b8d97e",
   "metadata": {},
   "outputs": [
    {
     "data": {
      "text/plain": [
       "10.0"
      ]
     },
     "execution_count": 58,
     "metadata": {},
     "output_type": "execute_result"
    }
   ],
   "source": [
    "def calculator(num1: int, operator: str, num2: int):\n",
    "    \n",
    "    if operator == '+':\n",
    "        return num1 + num2\n",
    "    elif operator == '-':\n",
    "        return num1 - num2\n",
    "    elif operator == '*':\n",
    "        return num1 * num2\n",
    "    elif operator == '/':\n",
    "        return num1 / num2\n",
    "    else:\n",
    "        raise ValueError(f\"Invalid operator: {operator}\")\n",
    "    \n",
    "calculator(20, \"/\", 2)"
   ]
  },
  {
   "cell_type": "code",
   "execution_count": 63,
   "id": "b383d694",
   "metadata": {},
   "outputs": [
    {
     "data": {
      "text/plain": [
       "70.4"
      ]
     },
     "execution_count": 63,
     "metadata": {},
     "output_type": "execute_result"
    }
   ],
   "source": [
    "def discount(price: int, discount: int):\n",
    "\n",
    "    disc_amount = price * (discount/100)\n",
    "    return price - disc_amount\n",
    "\n",
    "discount(80, 12)"
   ]
  },
  {
   "cell_type": "code",
   "execution_count": 64,
   "id": "ce048c0f",
   "metadata": {},
   "outputs": [
    {
     "data": {
      "text/plain": [
       "70.4"
      ]
     },
     "execution_count": 64,
     "metadata": {},
     "output_type": "execute_result"
    }
   ],
   "source": [
    "def discount(price: int, discount: int) -> float:\n",
    " \n",
    "    return price * (1 - discount/100)\n",
    "\n",
    "discount(80,12)"
   ]
  },
  {
   "cell_type": "code",
   "execution_count": 77,
   "id": "30def48a",
   "metadata": {},
   "outputs": [
    {
     "data": {
      "text/plain": [
       "[1, 2, 3]"
      ]
     },
     "execution_count": 77,
     "metadata": {},
     "output_type": "execute_result"
    }
   ],
   "source": [
    "def extract_integers(lst):\n",
    "   \n",
    "    return [x for x in lst if isinstance(x, int) and x >= 0]\n",
    "\n",
    "extract_integers([1,'a',2,'b',3,'c'])"
   ]
  },
  {
   "cell_type": "code",
   "execution_count": 88,
   "id": "346a3eb0",
   "metadata": {},
   "outputs": [
    {
     "data": {
      "text/plain": [
       "'nnooww'"
      ]
     },
     "execution_count": 88,
     "metadata": {},
     "output_type": "execute_result"
    }
   ],
   "source": [
    "def repeat(string):\n",
    "\n",
    "    doubled_string = \"\"\n",
    "    for char in string:\n",
    "        doubled_string += char * 2\n",
    "    return doubled_string\n",
    "        \n",
    "repeat('now')"
   ]
  },
  {
   "cell_type": "code",
   "execution_count": 7,
   "id": "a459c17a",
   "metadata": {},
   "outputs": [
    {
     "name": "stdout",
     "output_type": "stream",
     "text": [
      "28\n"
     ]
    }
   ],
   "source": [
    "x = ['A', '2', 'B', '9', 'D', '5', 'F', '12']\n",
    "\n",
    "numbers = []\n",
    "\n",
    "for value in x:\n",
    "    if value.isdigit():\n",
    "        numbers.append(int(value))\n",
    "\n",
    "total = sum(numbers)\n",
    "print(total)\n"
   ]
  },
  {
   "cell_type": "code",
   "execution_count": 23,
   "id": "7b6a13c0",
   "metadata": {},
   "outputs": [
    {
     "name": "stdout",
     "output_type": "stream",
     "text": [
      "Welcome to the Number Guessing Game!\n",
      "I'm thinking of a number between 1 and 20.\n",
      "Too low!\n",
      "Too low!\n",
      "Too low!\n",
      "Congratulations! You guess the number in 4 tries\n"
     ]
    }
   ],
   "source": [
    "import random\n",
    "\n",
    "def guess():\n",
    "    num = random.randint(1,21)\n",
    "    tries = 0\n",
    "\n",
    "    print(\"Welcome to the Number Guessing Game!\")\n",
    "    print(\"I'm thinking of a number between 1 and 20.\")\n",
    "\n",
    "    while True:\n",
    "        guess = int(input(\"Enter your guess: \"))\n",
    "        tries += 1\n",
    "\n",
    "        if guess < num:\n",
    "            print(\"Too low!\")\n",
    "        elif guess > num:\n",
    "            print(\"Too high!\")\n",
    "        else:\n",
    "            print(f\"Congratulations! You guess the number in {tries} tries\")\n",
    "            break\n",
    "\n",
    "guess()\n",
    "        \n"
   ]
  },
  {
   "cell_type": "code",
   "execution_count": 21,
   "id": "41facfd8",
   "metadata": {},
   "outputs": [
    {
     "name": "stdout",
     "output_type": "stream",
     "text": [
      "Word count: 5\n"
     ]
    }
   ],
   "source": [
    "def word_counter():\n",
    "\n",
    "    text = input(\"Enter a Sentence: \")\n",
    "    counter = 1\n",
    "    for char in text:\n",
    "        if char == ' ':\n",
    "            counter += 1\n",
    "    \n",
    "    print(f\"Word count: {counter}\")\n",
    "\n",
    "word_counter()"
   ]
  },
  {
   "cell_type": "code",
   "execution_count": 34,
   "id": "6bad6587",
   "metadata": {},
   "outputs": [
    {
     "name": "stdout",
     "output_type": "stream",
     "text": [
      "Fibonacci sequence: 0, 1, 1, 2, 3, 5, 8, 13\n"
     ]
    }
   ],
   "source": [
    "x = int(input(\"Enter the number of Fibonacci terms: \"))\n",
    "\n",
    "if x == 1:\n",
    "    fibonacci_sequence = [0]\n",
    "elif x == 2:\n",
    "    fibonacci_sequence = [0, 1]\n",
    "else:\n",
    "    fibonacci_sequence = [0, 1]\n",
    "    while len(fibonacci_sequence) < x:\n",
    "        next_num = sum(fibonacci_sequence[-2:])\n",
    "        fibonacci_sequence.append(next_num)\n",
    "\n",
    "print(\"Fibonacci sequence:\", \", \".join(str(num) for num in fibonacci_sequence))\n"
   ]
  },
  {
   "cell_type": "code",
   "execution_count": 37,
   "id": "13cc9489",
   "metadata": {},
   "outputs": [
    {
     "name": "stdout",
     "output_type": "stream",
     "text": [
      "Prime number: True\n"
     ]
    }
   ],
   "source": [
    "x = int(input(\"Enter a number: \"))\n",
    "\n",
    "if x <= 1:\n",
    "    print(\"Prime number: False\")\n",
    "else:\n",
    "    is_prime = True\n",
    "    for i in range(2, int(x ** 0.5) + 1):\n",
    "        if x % i == 0:\n",
    "            is_prime = False\n",
    "            break\n",
    "\n",
    "    print(\"Prime number:\", is_prime)\n"
   ]
  }
 ],
 "metadata": {
  "kernelspec": {
   "display_name": "Python 3.9.7 ('base')",
   "language": "python",
   "name": "python3"
  },
  "language_info": {
   "codemirror_mode": {
    "name": "ipython",
    "version": 3
   },
   "file_extension": ".py",
   "mimetype": "text/x-python",
   "name": "python",
   "nbconvert_exporter": "python",
   "pygments_lexer": "ipython3",
   "version": "3.9.7"
  },
  "vscode": {
   "interpreter": {
    "hash": "a077ae4e662b220e7fe1d6c59ba9b272b0124a09166e5930edbd09fcc3e56fa1"
   }
  }
 },
 "nbformat": 4,
 "nbformat_minor": 5
}
