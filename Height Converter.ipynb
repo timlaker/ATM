{
 "cells": [
  {
   "cell_type": "code",
   "execution_count": 24,
   "metadata": {},
   "outputs": [
    {
     "name": "stdout",
     "output_type": "stream",
     "text": [
      "Your height in centimeters is: 182.37969019769957\n"
     ]
    }
   ],
   "source": [
    "height = float(input(\"Enter your Height: \"))\n",
    "unit = input(\"(F)eet or (C)entimeters? \")\n",
    "if unit.upper() == \"F\":\n",
    "    converted = height/0.0328984\n",
    "    print(\"Your height in centimeters is: \" + str(converted))\n",
    "else:\n",
    "    converted = height*0.0328984\n",
    "    print(\"Your height in Feet is: \" + str(converted))"
   ]
  }
 ],
 "metadata": {
  "kernelspec": {
   "display_name": "Python 3.9.7 ('base')",
   "language": "python",
   "name": "python3"
  },
  "language_info": {
   "codemirror_mode": {
    "name": "ipython",
    "version": 3
   },
   "file_extension": ".py",
   "mimetype": "text/x-python",
   "name": "python",
   "nbconvert_exporter": "python",
   "pygments_lexer": "ipython3",
   "version": "3.9.7"
  },
  "orig_nbformat": 4,
  "vscode": {
   "interpreter": {
    "hash": "a077ae4e662b220e7fe1d6c59ba9b272b0124a09166e5930edbd09fcc3e56fa1"
   }
  }
 },
 "nbformat": 4,
 "nbformat_minor": 2
}
