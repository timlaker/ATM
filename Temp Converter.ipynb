{
 "cells": [
  {
   "cell_type": "code",
   "execution_count": 28,
   "id": "3affdb0d",
   "metadata": {},
   "outputs": [
    {
     "name": "stdout",
     "output_type": "stream",
     "text": [
      "The temperature in Celcius is: 16.0\n"
     ]
    }
   ],
   "source": [
    "temp = float(input(\"Please enter the temperature: \"))\n",
    "unit = input(\"(C) or (F)\")\n",
    "if unit.upper() == 'C':\n",
    "    converted = ((9/5)*temp + 32)\n",
    "    print((\"The temperature in Fahrenheit is: \") + str(converted))\n",
    "else:\n",
    "    converted = ((temp - 32)*5/9)\n",
    "    print((\"The temperature in Celcius is: \") + str(converted))\n"
   ]
  }
 ],
 "metadata": {
  "kernelspec": {
   "display_name": "Python 3.9.7 ('base')",
   "language": "python",
   "name": "python3"
  },
  "language_info": {
   "codemirror_mode": {
    "name": "ipython",
    "version": 3
   },
   "file_extension": ".py",
   "mimetype": "text/x-python",
   "name": "python",
   "nbconvert_exporter": "python",
   "pygments_lexer": "ipython3",
   "version": "3.9.7 (default, Sep 16 2021, 16:59:28) [MSC v.1916 64 bit (AMD64)]"
  },
  "vscode": {
   "interpreter": {
    "hash": "a077ae4e662b220e7fe1d6c59ba9b272b0124a09166e5930edbd09fcc3e56fa1"
   }
  }
 },
 "nbformat": 4,
 "nbformat_minor": 5
}
